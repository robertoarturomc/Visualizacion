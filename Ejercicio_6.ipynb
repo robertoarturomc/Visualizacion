{
  "nbformat": 4,
  "nbformat_minor": 0,
  "metadata": {
    "colab": {
      "provenance": [],
      "authorship_tag": "ABX9TyPDIw/hqK9yY3amLRE8AYAW",
      "include_colab_link": true
    },
    "kernelspec": {
      "name": "python3",
      "display_name": "Python 3"
    },
    "language_info": {
      "name": "python"
    }
  },
  "cells": [
    {
      "cell_type": "markdown",
      "metadata": {
        "id": "view-in-github",
        "colab_type": "text"
      },
      "source": [
        "<a href=\"https://colab.research.google.com/github/robertoarturomc/Visualizacion/blob/main/Ejercicio_6.ipynb\" target=\"_parent\"><img src=\"https://colab.research.google.com/assets/colab-badge.svg\" alt=\"Open In Colab\"/></a>"
      ]
    },
    {
      "cell_type": "code",
      "execution_count": null,
      "metadata": {
        "id": "CNwQnO5bSbqi"
      },
      "outputs": [],
      "source": [
        "import pandas as pd\n",
        "import numpy as np\n",
        "import matplotlib.pyplot as plt\n",
        "import seaborn as sns\n",
        "\n",
        "import geopandas as gpd"
      ]
    },
    {
      "cell_type": "markdown",
      "source": [
        "# Ejercicio 6. Graficando información Geográfica\n",
        "\n",
        "Vamos a practicar el uso de GeoPandas para manipular información Geográfica. Para este ejercicio, vas a:\n",
        "\n",
        "1. Investigar en alguna fuente pública alguna tabla con información estadística de México. Fuentes recomendadas: https://www.inegi.org.mx/ y https://datos.gob.mx/\n",
        "\n",
        "2. Cargar los datos a Python.\n",
        "3. Cruzar con el Marco Geoestadístico del Inegi.\n",
        "4. Generar, al igual que en la clase, un gráfico Cloropeth que represente la información investigada. \n",
        "5. Modifica al menos uno de los parámetros default."
      ],
      "metadata": {
        "id": "cPZra7lf8WmN"
      }
    }
  ]
}