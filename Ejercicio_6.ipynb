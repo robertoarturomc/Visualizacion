{
  "nbformat": 4,
  "nbformat_minor": 0,
  "metadata": {
    "colab": {
      "provenance": [],
      "authorship_tag": "ABX9TyP25YEyAM5H4BZl7pKF3Rm/",
      "include_colab_link": true
    },
    "kernelspec": {
      "name": "python3",
      "display_name": "Python 3"
    },
    "language_info": {
      "name": "python"
    }
  },
  "cells": [
    {
      "cell_type": "markdown",
      "metadata": {
        "id": "view-in-github",
        "colab_type": "text"
      },
      "source": [
        "<a href=\"https://colab.research.google.com/github/robertoarturomc/Visualizacion/blob/main/Ejercicio_6.ipynb\" target=\"_parent\"><img src=\"https://colab.research.google.com/assets/colab-badge.svg\" alt=\"Open In Colab\"/></a>"
      ]
    },
    {
      "cell_type": "code",
      "execution_count": 2,
      "metadata": {
        "colab": {
          "base_uri": "https://localhost:8080/",
          "height": 339
        },
        "id": "_1vaopCxh_B8",
        "outputId": "6f70131e-e4f2-496e-ec48-e9a52bce35b2"
      },
      "outputs": [
        {
          "output_type": "error",
          "ename": "ModuleNotFoundError",
          "evalue": "ignored",
          "traceback": [
            "\u001b[0;31m---------------------------------------------------------------------------\u001b[0m",
            "\u001b[0;31mModuleNotFoundError\u001b[0m                       Traceback (most recent call last)",
            "\u001b[0;32m<ipython-input-2-95a187720ec9>\u001b[0m in \u001b[0;36m<module>\u001b[0;34m\u001b[0m\n\u001b[1;32m      3\u001b[0m \u001b[0;32mimport\u001b[0m \u001b[0mmatplotlib\u001b[0m\u001b[0;34m.\u001b[0m\u001b[0mpyplot\u001b[0m \u001b[0;32mas\u001b[0m \u001b[0mplt\u001b[0m\u001b[0;34m\u001b[0m\u001b[0;34m\u001b[0m\u001b[0m\n\u001b[1;32m      4\u001b[0m \u001b[0;32mimport\u001b[0m \u001b[0mseaborn\u001b[0m \u001b[0;32mas\u001b[0m \u001b[0msns\u001b[0m\u001b[0;34m\u001b[0m\u001b[0;34m\u001b[0m\u001b[0m\n\u001b[0;32m----> 5\u001b[0;31m \u001b[0;32mimport\u001b[0m \u001b[0mgeopandas\u001b[0m \u001b[0;32mas\u001b[0m \u001b[0mgpd\u001b[0m\u001b[0;34m\u001b[0m\u001b[0;34m\u001b[0m\u001b[0m\n\u001b[0m",
            "\u001b[0;31mModuleNotFoundError\u001b[0m: No module named 'geopandas'",
            "",
            "\u001b[0;31m---------------------------------------------------------------------------\u001b[0;32m\nNOTE: If your import is failing due to a missing package, you can\nmanually install dependencies using either !pip or !apt.\n\nTo view examples of installing some common dependencies, click the\n\"Open Examples\" button below.\n\u001b[0;31m---------------------------------------------------------------------------\u001b[0m\n"
          ],
          "errorDetails": {
            "actions": [
              {
                "action": "open_url",
                "actionText": "Open Examples",
                "url": "/notebooks/snippets/importing_libraries.ipynb"
              }
            ]
          }
        }
      ],
      "source": [
        "import pandas as pd\n",
        "import numpy as np\n",
        "import matplotlib.pyplot as plt\n",
        "import seaborn as sns\n",
        "import geopandas as gpd # Si falla, utiliza: !pip install geopandas"
      ]
    },
    {
      "cell_type": "markdown",
      "source": [
        "# Ejercicio 6\n",
        "\n",
        "Vamos a practicar el uso de GeoPandas para graficar información Geográfica. Para ello, vas a tener que hacer lo siguiente:\n",
        "\n",
        "1. Investiga, en alguna fuente pública, algún dato numérico a nivel municipio en México. Por ejemplo, Nivel de Ingresos, Precio de la gasolina, Porcentaje Económicamente activa, etc. Algunas posibles fuentes son el [INEGI](https://www.inegi.org.mx/) o la página de [Datos Abiertos del Gobierno de México](https://datos.gob.mx/)\n",
        "\n",
        "2. Utiliza el Marco Geoestadístico del Inegi, al igual que en el ejercicio de clase, para crear tu GeoDataFrame. Usa un Join de forma exitosa para juntarlo con tu tabla que obtuviste en el punto 1.\n",
        "\n",
        "3. Crea un Cloropeth Graph con tus datos. Juega con el parámetro `cmap` para modificar los colores a usar.\n",
        "\n",
        "4. Filtra tu GeoDataFrame para quedarte sólo con los datos de tu Estado de Origen. Realiza nuevamente un Cloropeth Graph, pero ahora sólo con esos datos.\n",
        "\n",
        "¡Mucho éxito!"
      ],
      "metadata": {
        "id": "0jcikhG9iJOs"
      }
    },
    {
      "cell_type": "code",
      "source": [],
      "metadata": {
        "id": "h06WbBMHiIDV"
      },
      "execution_count": null,
      "outputs": []
    }
  ]
}